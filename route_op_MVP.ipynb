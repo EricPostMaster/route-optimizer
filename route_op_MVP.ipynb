{
 "cells": [
  {
   "cell_type": "code",
   "execution_count": 11,
   "metadata": {},
   "outputs": [],
   "source": [
    "# Health Dept woodoak ln, Murray\n",
    "# depot,40.6533382,-111.8720126\n",
    "\n",
    "# In'n'Out Jordan Landing\n",
    "# location1,40.6140938,-111.976211\n",
    "\n",
    "# Taco Time 9000 S 2700 W\n",
    "# location2,40.5835943,-111.9673276\n",
    "\n",
    "# Red Maple Chinese 4700 S 2700 W\n",
    "# location3,40.6731633,-111.9641089\n",
    "\n",
    "# Topgolf Midvale\n",
    "# location4,40.6244879,-111.922564\n",
    "\n",
    "# Lagoon\n",
    "# 40.9856936,-111.8970475\n",
    "\n",
    "import pandas as pd\n",
    "from scipy.spatial import distance_matrix\n",
    "\n",
    "data = [[40.6533382,-111.8720126], [40.6731633,-111.9641089], [40.6140938,-111.976211], [40.5835943,-111.9673276],\n",
    "        [40.6244879,-111.922564], [40.9856936,-111.8970475], [40.1690666,-111.679458]]\n",
    "ctys = ['Health Department', 'Red Maple Chinese', \"In 'N Out\", 'Taco Time', 'Topgolf', 'Lagoon', 'Flying J']\n",
    "df = pd.DataFrame(data, columns=['xcord', 'ycord'], index=ctys)"
   ]
  },
  {
   "cell_type": "code",
   "execution_count": 12,
   "metadata": {},
   "outputs": [
    {
     "data": {
      "text/html": [
       "<div>\n",
       "<style scoped>\n",
       "    .dataframe tbody tr th:only-of-type {\n",
       "        vertical-align: middle;\n",
       "    }\n",
       "\n",
       "    .dataframe tbody tr th {\n",
       "        vertical-align: top;\n",
       "    }\n",
       "\n",
       "    .dataframe thead th {\n",
       "        text-align: right;\n",
       "    }\n",
       "</style>\n",
       "<table border=\"1\" class=\"dataframe\">\n",
       "  <thead>\n",
       "    <tr style=\"text-align: right;\">\n",
       "      <th></th>\n",
       "      <th>xcord</th>\n",
       "      <th>ycord</th>\n",
       "    </tr>\n",
       "  </thead>\n",
       "  <tbody>\n",
       "    <tr>\n",
       "      <th>Health Department</th>\n",
       "      <td>40.653338</td>\n",
       "      <td>-111.872013</td>\n",
       "    </tr>\n",
       "    <tr>\n",
       "      <th>Red Maple Chinese</th>\n",
       "      <td>40.673163</td>\n",
       "      <td>-111.964109</td>\n",
       "    </tr>\n",
       "    <tr>\n",
       "      <th>In 'N Out</th>\n",
       "      <td>40.614094</td>\n",
       "      <td>-111.976211</td>\n",
       "    </tr>\n",
       "    <tr>\n",
       "      <th>Taco Time</th>\n",
       "      <td>40.583594</td>\n",
       "      <td>-111.967328</td>\n",
       "    </tr>\n",
       "    <tr>\n",
       "      <th>Topgolf</th>\n",
       "      <td>40.624488</td>\n",
       "      <td>-111.922564</td>\n",
       "    </tr>\n",
       "    <tr>\n",
       "      <th>Lagoon</th>\n",
       "      <td>40.985694</td>\n",
       "      <td>-111.897047</td>\n",
       "    </tr>\n",
       "    <tr>\n",
       "      <th>Flying J</th>\n",
       "      <td>40.169067</td>\n",
       "      <td>-111.679458</td>\n",
       "    </tr>\n",
       "  </tbody>\n",
       "</table>\n",
       "</div>"
      ],
      "text/plain": [
       "                       xcord       ycord\n",
       "Health Department  40.653338 -111.872013\n",
       "Red Maple Chinese  40.673163 -111.964109\n",
       "In 'N Out          40.614094 -111.976211\n",
       "Taco Time          40.583594 -111.967328\n",
       "Topgolf            40.624488 -111.922564\n",
       "Lagoon             40.985694 -111.897047\n",
       "Flying J           40.169067 -111.679458"
      ]
     },
     "execution_count": 12,
     "metadata": {},
     "output_type": "execute_result"
    }
   ],
   "source": [
    "df"
   ]
  },
  {
   "cell_type": "code",
   "execution_count": 13,
   "metadata": {},
   "outputs": [
    {
     "data": {
      "text/html": [
       "<div>\n",
       "<style scoped>\n",
       "    .dataframe tbody tr th:only-of-type {\n",
       "        vertical-align: middle;\n",
       "    }\n",
       "\n",
       "    .dataframe tbody tr th {\n",
       "        vertical-align: top;\n",
       "    }\n",
       "\n",
       "    .dataframe thead th {\n",
       "        text-align: right;\n",
       "    }\n",
       "</style>\n",
       "<table border=\"1\" class=\"dataframe\">\n",
       "  <thead>\n",
       "    <tr style=\"text-align: right;\">\n",
       "      <th></th>\n",
       "      <th>Health Department</th>\n",
       "      <th>Red Maple Chinese</th>\n",
       "      <th>In 'N Out</th>\n",
       "      <th>Taco Time</th>\n",
       "      <th>Topgolf</th>\n",
       "      <th>Lagoon</th>\n",
       "      <th>Flying J</th>\n",
       "    </tr>\n",
       "  </thead>\n",
       "  <tbody>\n",
       "    <tr>\n",
       "      <th>Health Department</th>\n",
       "      <td>0.000000</td>\n",
       "      <td>0.094206</td>\n",
       "      <td>0.111344</td>\n",
       "      <td>0.118107</td>\n",
       "      <td>0.058205</td>\n",
       "      <td>0.333297</td>\n",
       "      <td>0.521149</td>\n",
       "    </tr>\n",
       "    <tr>\n",
       "      <th>Red Maple Chinese</th>\n",
       "      <td>0.094206</td>\n",
       "      <td>0.000000</td>\n",
       "      <td>0.060296</td>\n",
       "      <td>0.089627</td>\n",
       "      <td>0.063994</td>\n",
       "      <td>0.319644</td>\n",
       "      <td>0.578912</td>\n",
       "    </tr>\n",
       "    <tr>\n",
       "      <th>In 'N Out</th>\n",
       "      <td>0.111344</td>\n",
       "      <td>0.060296</td>\n",
       "      <td>0.000000</td>\n",
       "      <td>0.031767</td>\n",
       "      <td>0.054645</td>\n",
       "      <td>0.379939</td>\n",
       "      <td>0.534894</td>\n",
       "    </tr>\n",
       "    <tr>\n",
       "      <th>Taco Time</th>\n",
       "      <td>0.118107</td>\n",
       "      <td>0.089627</td>\n",
       "      <td>0.031767</td>\n",
       "      <td>0.000000</td>\n",
       "      <td>0.060631</td>\n",
       "      <td>0.408195</td>\n",
       "      <td>0.504680</td>\n",
       "    </tr>\n",
       "    <tr>\n",
       "      <th>Topgolf</th>\n",
       "      <td>0.058205</td>\n",
       "      <td>0.063994</td>\n",
       "      <td>0.054645</td>\n",
       "      <td>0.060631</td>\n",
       "      <td>0.000000</td>\n",
       "      <td>0.362106</td>\n",
       "      <td>0.516245</td>\n",
       "    </tr>\n",
       "    <tr>\n",
       "      <th>Lagoon</th>\n",
       "      <td>0.333297</td>\n",
       "      <td>0.319644</td>\n",
       "      <td>0.379939</td>\n",
       "      <td>0.408195</td>\n",
       "      <td>0.362106</td>\n",
       "      <td>0.000000</td>\n",
       "      <td>0.845118</td>\n",
       "    </tr>\n",
       "    <tr>\n",
       "      <th>Flying J</th>\n",
       "      <td>0.521149</td>\n",
       "      <td>0.578912</td>\n",
       "      <td>0.534894</td>\n",
       "      <td>0.504680</td>\n",
       "      <td>0.516245</td>\n",
       "      <td>0.845118</td>\n",
       "      <td>0.000000</td>\n",
       "    </tr>\n",
       "  </tbody>\n",
       "</table>\n",
       "</div>"
      ],
      "text/plain": [
       "                   Health Department  Red Maple Chinese  In 'N Out  Taco Time  \\\n",
       "Health Department           0.000000           0.094206   0.111344   0.118107   \n",
       "Red Maple Chinese           0.094206           0.000000   0.060296   0.089627   \n",
       "In 'N Out                   0.111344           0.060296   0.000000   0.031767   \n",
       "Taco Time                   0.118107           0.089627   0.031767   0.000000   \n",
       "Topgolf                     0.058205           0.063994   0.054645   0.060631   \n",
       "Lagoon                      0.333297           0.319644   0.379939   0.408195   \n",
       "Flying J                    0.521149           0.578912   0.534894   0.504680   \n",
       "\n",
       "                    Topgolf    Lagoon  Flying J  \n",
       "Health Department  0.058205  0.333297  0.521149  \n",
       "Red Maple Chinese  0.063994  0.319644  0.578912  \n",
       "In 'N Out          0.054645  0.379939  0.534894  \n",
       "Taco Time          0.060631  0.408195  0.504680  \n",
       "Topgolf            0.000000  0.362106  0.516245  \n",
       "Lagoon             0.362106  0.000000  0.845118  \n",
       "Flying J           0.516245  0.845118  0.000000  "
      ]
     },
     "execution_count": 13,
     "metadata": {},
     "output_type": "execute_result"
    }
   ],
   "source": [
    "distance_matrix =  pd.DataFrame(distance_matrix(df.values, df.values), index=df.index, columns=df.index)\n",
    "distance_matrix"
   ]
  },
  {
   "cell_type": "code",
   "execution_count": 14,
   "metadata": {},
   "outputs": [],
   "source": [
    "distance_matrix = distance_matrix*10_000\n",
    "distance_matrix = distance_matrix.values.tolist()"
   ]
  },
  {
   "cell_type": "code",
   "execution_count": 144,
   "metadata": {},
   "outputs": [],
   "source": [
    "def create_data_model():\n",
    "    \"\"\"Stores the data for the problem.\"\"\"\n",
    "    data = {}\n",
    "    data['distance_matrix'] = distance_matrix\n",
    "    data['num_vehicles'] = 1  # Only one vehicle for this problem\n",
    "    data['depot'] = 0  # The depot is index 0 in the distance matrix\n",
    "    return data"
   ]
  },
  {
   "cell_type": "code",
   "execution_count": 145,
   "metadata": {},
   "outputs": [],
   "source": [
    "# pip install ortools"
   ]
  },
  {
   "cell_type": "code",
   "execution_count": 146,
   "metadata": {},
   "outputs": [],
   "source": [
    "from ortools.constraint_solver import pywrapcp\n",
    "from ortools.constraint_solver import routing_enums_pb2"
   ]
  },
  {
   "cell_type": "code",
   "execution_count": 147,
   "metadata": {},
   "outputs": [],
   "source": [
    "data = create_data_model()\n",
    "manager = pywrapcp.RoutingIndexManager(len(data['distance_matrix']),\n",
    "                                       data['num_vehicles'], data['depot'])\n",
    "routing = pywrapcp.RoutingModel(manager)"
   ]
  },
  {
   "cell_type": "code",
   "execution_count": 148,
   "metadata": {},
   "outputs": [],
   "source": [
    "def distance_callback(from_index, to_index):\n",
    "    \"\"\"Returns the distance between the two nodes.\"\"\"\n",
    "    # Convert from routing variable Index to distance matrix NodeIndex.\n",
    "    from_node = manager.IndexToNode(from_index)\n",
    "    to_node = manager.IndexToNode(to_index)\n",
    "    return data['distance_matrix'][from_node][to_node]\n",
    "\n",
    "transit_callback_index = routing.RegisterTransitCallback(distance_callback)"
   ]
  },
  {
   "cell_type": "code",
   "execution_count": 149,
   "metadata": {},
   "outputs": [],
   "source": [
    "routing.SetArcCostEvaluatorOfAllVehicles(transit_callback_index)"
   ]
  },
  {
   "cell_type": "code",
   "execution_count": 150,
   "metadata": {},
   "outputs": [],
   "source": [
    "search_parameters = pywrapcp.DefaultRoutingSearchParameters()\n",
    "search_parameters.first_solution_strategy = (routing_enums_pb2.FirstSolutionStrategy.PATH_CHEAPEST_ARC)"
   ]
  },
  {
   "cell_type": "code",
   "execution_count": 151,
   "metadata": {},
   "outputs": [],
   "source": [
    "# This the search parameter that takes some extra time to explore outside of any local minima it may encounter\n",
    "\n",
    "# search_parameters = pywrapcp.DefaultRoutingSearchParameters()\n",
    "# search_parameters.local_search_metaheuristic = (routing_enums_pb2.LocalSearchMetaheuristic.GUIDED_LOCAL_SEARCH)\n",
    "# search_parameters.time_limit.seconds = 30\n",
    "# search_parameters.log_search = True"
   ]
  },
  {
   "cell_type": "code",
   "execution_count": 152,
   "metadata": {},
   "outputs": [],
   "source": [
    "def print_solution(manager, routing, solution):\n",
    "    \"\"\"Prints solution on console.\"\"\"\n",
    "    print('Objective: {} miles'.format(solution.ObjectiveValue()))\n",
    "    index = routing.Start(0)\n",
    "    plan_output = 'Route for vehicle 0:\\n'\n",
    "    route_distance = 0\n",
    "    while not routing.IsEnd(index):\n",
    "        plan_output += ' {} ->'.format(manager.IndexToNode(index))\n",
    "        previous_index = index\n",
    "        index = solution.Value(routing.NextVar(index))\n",
    "        route_distance += routing.GetArcCostForVehicle(previous_index, index, 0)\n",
    "    plan_output += ' {}\\n'.format(manager.IndexToNode(index))\n",
    "    print(plan_output)\n",
    "    plan_output += 'Route distance: {}miles\\n'.format(route_distance)"
   ]
  },
  {
   "cell_type": "code",
   "execution_count": 153,
   "metadata": {},
   "outputs": [
    {
     "name": "stdout",
     "output_type": "stream",
     "text": [
      "Objective: 18237 miles\n",
      "Route for vehicle 0:\n",
      " 0 -> 5 -> 1 -> 2 -> 3 -> 6 -> 4 -> 0\n",
      "\n"
     ]
    }
   ],
   "source": [
    "# Print solution for the optimal route\n",
    "\n",
    "solution = routing.SolveWithParameters(search_parameters)\n",
    "if solution:\n",
    "    print_solution(manager, routing, solution)"
   ]
  },
  {
   "cell_type": "code",
   "execution_count": null,
   "metadata": {},
   "outputs": [],
   "source": [
    "# Next Steps:\n",
    "\n",
    "# Consolidate code it into a nice function so it can be run simply\n",
    "\n",
    "# After that, I need to connect it to a data source so I can pull in data and assign dummy inspection dates\n",
    "# I can use the FourSquare API to pull in several dozen locations at once\n",
    "# Dates can be assigned randomly in groups of 5, and then the optimizer can pick the soonest 5\n",
    "# Replicating the date 5 times could be hard, and it's totally contrived anyway. As a workaround, just assign a number between 1 and len(list)\n",
    "# and take the first 5 items.\n",
    "\n",
    "# Also, need to check and make sure it's not getting stuck in a local minimum\n",
    "# Might also be nice to use Manhattan distance instead of Euclidean since it's pretty much on a grid system\n",
    "# Later draft could incorporate Google Maps API for actual driving routes"
   ]
  }
 ],
 "metadata": {
  "kernelspec": {
   "display_name": "Python 3",
   "language": "python",
   "name": "python3"
  },
  "language_info": {
   "codemirror_mode": {
    "name": "ipython",
    "version": 3
   },
   "file_extension": ".py",
   "mimetype": "text/x-python",
   "name": "python",
   "nbconvert_exporter": "python",
   "pygments_lexer": "ipython3",
   "version": "3.7.6"
  }
 },
 "nbformat": 4,
 "nbformat_minor": 4
}
