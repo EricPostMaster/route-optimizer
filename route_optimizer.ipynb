{
 "cells": [
  {
   "cell_type": "code",
   "execution_count": 63,
   "metadata": {},
   "outputs": [],
   "source": [
    "# pip install ortools\n",
    "import pandas as pd\n",
    "from scipy.spatial import distance_matrix\n",
    "from ortools.constraint_solver import pywrapcp\n",
    "from ortools.constraint_solver import routing_enums_pb2\n",
    "\n",
    "# Import inspection locations\n",
    "csv_path = \"inspection_locations.csv\"  # This is located in the same directory\n",
    "inspection_locations = pd.read_csv(csv_path, index_col='name')\n",
    "\n",
    "# Randomly sample 8 inspections to conduct today (this would normally be done by due date)\n",
    "today_inspections = inspection_locations.sample(8,random_state=123)\n",
    "\n",
    "# Create distance matrix for today's inspections\n",
    "distance_matrix =  pd.DataFrame(distance_matrix(today_inspections.loc[:,('lat','lng')].to_numpy(), today_inspections.loc[:,('lat','lng')].to_numpy()),\n",
    "                                index=today_inspections.index, columns=today_inspections.index)\n",
    "\n",
    "# Scale up the distance matrix\n",
    "distance_matrix = distance_matrix*10_000\n",
    "distance_matrix = distance_matrix.values.tolist()"
   ]
  },
  {
   "cell_type": "code",
   "execution_count": 62,
   "metadata": {},
   "outputs": [
    {
     "name": "stdout",
     "output_type": "stream",
     "text": [
      "Route for vehicle 0:\n",
      " 0 -> 2 -> 4 -> 3 -> 5 -> 7 -> 6 -> 1 -> 0\n",
      "\n"
     ]
    }
   ],
   "source": [
    "def create_data_model():\n",
    "    \"\"\"Stores the data for the problem.\"\"\"\n",
    "    data = {}\n",
    "    data['distance_matrix'] = distance_matrix\n",
    "    data['num_vehicles'] = 1  # Only one vehicle for this problem\n",
    "    data['depot'] = 0  # The depot is index 0 in the distance matrix\n",
    "    return data\n",
    "\n",
    "def print_solution(manager, routing, solution):\n",
    "    \"\"\"Prints solution on console.\"\"\"\n",
    "#     print('Objective: {} miles'.format(solution.ObjectiveValue()))  # This isn't accurate when I scale up the distance matrix\n",
    "    index = routing.Start(0)\n",
    "    plan_output = 'Route for vehicle 0:\\n'\n",
    "    route_distance = 0\n",
    "    while not routing.IsEnd(index):\n",
    "        plan_output += ' {} ->'.format(manager.IndexToNode(index))\n",
    "        previous_index = index\n",
    "        index = solution.Value(routing.NextVar(index))\n",
    "        route_distance += routing.GetArcCostForVehicle(previous_index, index, 0)\n",
    "    plan_output += ' {}\\n'.format(manager.IndexToNode(index))\n",
    "    print(plan_output)\n",
    "    plan_output += 'Route distance: {}miles\\n'.format(route_distance)\n",
    "\n",
    "def main():\n",
    "    data = create_data_model()\n",
    "    \n",
    "    # Create the routing index manager\n",
    "    manager = pywrapcp.RoutingIndexManager(len(data['distance_matrix']), data['num_vehicles'], data['depot'])\n",
    "\n",
    "    # Creates the routing model\n",
    "    routing = pywrapcp.RoutingModel(manager)\n",
    "\n",
    "\n",
    "    def distance_callback(from_index, to_index):\n",
    "        \"\"\"Returns the distance between the two nodes.\"\"\"\n",
    "        # Convert from routing variable Index to distance matrix NodeIndex.\n",
    "        from_node = manager.IndexToNode(from_index)\n",
    "        to_node = manager.IndexToNode(to_index)\n",
    "        return data['distance_matrix'][from_node][to_node]\n",
    "\n",
    "    transit_callback_index = routing.RegisterTransitCallback(distance_callback)\n",
    "\n",
    "    # This defines the cost of travel.  In this case it is just the distance.\n",
    "    # This could be modified to account for different vehicle types or other costs, such as tolls.\n",
    "    routing.SetArcCostEvaluatorOfAllVehicles(transit_callback_index)\n",
    "\n",
    "    # This search parameter finds the first solution that works\n",
    "    # PATH_CHEAPEST_ARC just uses the least expensive route available that doesn't lead to a previously visited node\n",
    "    search_parameters = pywrapcp.DefaultRoutingSearchParameters()\n",
    "    search_parameters.first_solution_strategy = (routing_enums_pb2.FirstSolutionStrategy.PATH_CHEAPEST_ARC)\n",
    "\n",
    "    # # This search parameter takes some extra time to explore outside of any local minima it may encounter\n",
    "    # search_parameters = pywrapcp.DefaultRoutingSearchParameters()\n",
    "    # search_parameters.local_search_metaheuristic = (routing_enums_pb2.LocalSearchMetaheuristic.GUIDED_LOCAL_SEARCH)\n",
    "    # search_parameters.time_limit.seconds = 30\n",
    "    # search_parameters.log_search = True\n",
    "\n",
    "    # Print solution for the optimal route\n",
    "    solution = routing.SolveWithParameters(search_parameters)\n",
    "    if solution:\n",
    "        print_solution(manager, routing, solution)\n",
    "        \n",
    "if __name__ == '__main__':\n",
    "    main()"
   ]
  },
  {
   "cell_type": "code",
   "execution_count": null,
   "metadata": {},
   "outputs": [],
   "source": [
    "# Next Steps:\n",
    "\n",
    "# Consolidate code it into a nice function so it can be run simply\n",
    "\n",
    "# After that, I need to connect it to a data source so I can pull in data and assign dummy inspection dates\n",
    "# I can use the FourSquare API to pull in several dozen locations at once\n",
    "# Dates can be assigned randomly in groups of 5, and then the optimizer can pick the soonest 5\n",
    "# Replicating the date 5 times could be hard, and it's totally contrived anyway. As a workaround, just assign a number between 1 and len(list)\n",
    "# and take the first 5 items.\n",
    "\n",
    "# Also, need to check and make sure it's not getting stuck in a local minimum\n",
    "# Might also be nice to use Manhattan distance instead of Euclidean since it's pretty much on a grid system\n",
    "# Later draft could incorporate Google Maps API for actual driving routes"
   ]
  }
 ],
 "metadata": {
  "kernelspec": {
   "display_name": "Python 3",
   "language": "python",
   "name": "python3"
  },
  "language_info": {
   "codemirror_mode": {
    "name": "ipython",
    "version": 3
   },
   "file_extension": ".py",
   "mimetype": "text/x-python",
   "name": "python",
   "nbconvert_exporter": "python",
   "pygments_lexer": "ipython3",
   "version": "3.7.6"
  }
 },
 "nbformat": 4,
 "nbformat_minor": 4
}
